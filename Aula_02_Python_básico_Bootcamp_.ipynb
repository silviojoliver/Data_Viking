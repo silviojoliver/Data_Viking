{
  "nbformat": 4,
  "nbformat_minor": 0,
  "metadata": {
    "colab": {
      "provenance": [],
      "include_colab_link": true
    },
    "kernelspec": {
      "name": "python3",
      "display_name": "Python 3"
    },
    "language_info": {
      "name": "python"
    }
  },
  "cells": [
    {
      "cell_type": "markdown",
      "metadata": {
        "id": "view-in-github",
        "colab_type": "text"
      },
      "source": [
        "<a href=\"https://colab.research.google.com/github/silviojoliver/Data_Viking/blob/main/Aula_02_Python_b%C3%A1sico_Bootcamp_.ipynb\" target=\"_parent\"><img src=\"https://colab.research.google.com/assets/colab-badge.svg\" alt=\"Open In Colab\"/></a>"
      ]
    },
    {
      "cell_type": "code",
      "execution_count": null,
      "metadata": {
        "id": "ALXYNmLpYqxU"
      },
      "outputs": [],
      "source": [
        "# Buscar dados na web\n",
        "import requests\n",
        "\n",
        "# Modelegem de dados\n",
        "import pandas as pd\n",
        "\n",
        "# Data Visualzation\n",
        "import matplotlib.pyplot as plt\n",
        "import json"
      ]
    },
    {
      "cell_type": "code",
      "source": [
        "### Site: https://www.al.sp.gov.br/dados-abertos/recurso/61\n",
        "\n",
        "# Site do Aleps com os dados\n",
        "URL = 'https://www.al.sp.gov.br/repositorioDados/deputados/deputados.xml'\n",
        "\n",
        "# Conexão\n",
        "Conexao = requests.get(URL)\n",
        "\n",
        "# Ler os dados\n",
        "Base_Deputados = pd.read_xml( Conexao.content )\n",
        "\n",
        "# Verificando as primeiras linhas\n",
        "Base_Deputados.head()"
      ],
      "metadata": {
        "colab": {
          "base_uri": "https://localhost:8080/",
          "height": 600
        },
        "id": "Lvg5H03-ZeMe",
        "outputId": "bb1667ab-e528-4079-baa8-8a35b10227fa"
      },
      "execution_count": null,
      "outputs": [
        {
          "output_type": "execute_result",
          "data": {
            "text/plain": [
              "   IdDeputado       IdSPL   IdUA Situacao     Andar Aniversario  \\\n",
              "0         549  1000000330  20377      EXE  3º andar       01/11   \n",
              "1         548  1000000332  20370      EXE    Térreo       09/07   \n",
              "2         547  1000000335  20455      EXE  2º andar       26/08   \n",
              "3         128          39  20384      EXE        1º       04/01   \n",
              "4         546  1000000342  20399      EXE        1º       17/09   \n",
              "\n",
              "                                           Biografia  \\\n",
              "0  <p>Adalberto Freitas é natural de Porto Alegre...   \n",
              "1  <p>Com uma história de mais de duas décadas de...   \n",
              "2  <p>Danilo Mascarenhas de Balas nasceu na cidad...   \n",
              "3  <p style=\"outline: none; color: #121212; font-...   \n",
              "4  <p>Alexander Muniz de Oliveira, nascido na cid...   \n",
              "\n",
              "                           Email  Matricula              NomeParlamentar  \\\n",
              "0  adalbertofreitas@al.sp.gov.br     300605            Adalberto Freitas   \n",
              "1      adrianaborgo@al.sp.gov.br     300606                Adriana Borgo   \n",
              "2    apfdanilobalas@al.sp.gov.br     300607  Agente Federal Danilo Balas   \n",
              "3         ademarchi@al.sp.gov.br     300288                Aldo Demarchi   \n",
              "4   alexdemadureira@al.sp.gov.br     300608               Alex Madureira   \n",
              "\n",
              "                                            PathFoto   Sala Partido  \\\n",
              "0  http://www3.al.sp.gov.br/repositorio/deputadoP...    305    PSDB   \n",
              "1  http://www3.al.sp.gov.br/repositorio/deputadoP...  T. 45    AGIR   \n",
              "2  http://www3.al.sp.gov.br/repositorio/deputadoP...    255      PL   \n",
              "3  http://www3.al.sp.gov.br/repositorio/deputadoP...    168   UNIÃO   \n",
              "4  http://www3.al.sp.gov.br/repositorio/deputadoP...    173      PL   \n",
              "\n",
              "                Telefone   Fax PlacaVeiculo  \n",
              "0  (11) 3886-6557 / 6559  None         None  \n",
              "1    (11) 3886-6567/8770  None         None  \n",
              "2     (11)3886-6052/6054  None         None  \n",
              "3         3886-6281/6283  None         None  \n",
              "4   (11)3886-6676 / 6677  None         None  "
            ],
            "text/html": [
              "\n",
              "  <div id=\"df-90b29635-7709-4047-bf50-4cc797ce387a\">\n",
              "    <div class=\"colab-df-container\">\n",
              "      <div>\n",
              "<style scoped>\n",
              "    .dataframe tbody tr th:only-of-type {\n",
              "        vertical-align: middle;\n",
              "    }\n",
              "\n",
              "    .dataframe tbody tr th {\n",
              "        vertical-align: top;\n",
              "    }\n",
              "\n",
              "    .dataframe thead th {\n",
              "        text-align: right;\n",
              "    }\n",
              "</style>\n",
              "<table border=\"1\" class=\"dataframe\">\n",
              "  <thead>\n",
              "    <tr style=\"text-align: right;\">\n",
              "      <th></th>\n",
              "      <th>IdDeputado</th>\n",
              "      <th>IdSPL</th>\n",
              "      <th>IdUA</th>\n",
              "      <th>Situacao</th>\n",
              "      <th>Andar</th>\n",
              "      <th>Aniversario</th>\n",
              "      <th>Biografia</th>\n",
              "      <th>Email</th>\n",
              "      <th>Matricula</th>\n",
              "      <th>NomeParlamentar</th>\n",
              "      <th>PathFoto</th>\n",
              "      <th>Sala</th>\n",
              "      <th>Partido</th>\n",
              "      <th>Telefone</th>\n",
              "      <th>Fax</th>\n",
              "      <th>PlacaVeiculo</th>\n",
              "    </tr>\n",
              "  </thead>\n",
              "  <tbody>\n",
              "    <tr>\n",
              "      <th>0</th>\n",
              "      <td>549</td>\n",
              "      <td>1000000330</td>\n",
              "      <td>20377</td>\n",
              "      <td>EXE</td>\n",
              "      <td>3º andar</td>\n",
              "      <td>01/11</td>\n",
              "      <td>&lt;p&gt;Adalberto Freitas é natural de Porto Alegre...</td>\n",
              "      <td>adalbertofreitas@al.sp.gov.br</td>\n",
              "      <td>300605</td>\n",
              "      <td>Adalberto Freitas</td>\n",
              "      <td>http://www3.al.sp.gov.br/repositorio/deputadoP...</td>\n",
              "      <td>305</td>\n",
              "      <td>PSDB</td>\n",
              "      <td>(11) 3886-6557 / 6559</td>\n",
              "      <td>None</td>\n",
              "      <td>None</td>\n",
              "    </tr>\n",
              "    <tr>\n",
              "      <th>1</th>\n",
              "      <td>548</td>\n",
              "      <td>1000000332</td>\n",
              "      <td>20370</td>\n",
              "      <td>EXE</td>\n",
              "      <td>Térreo</td>\n",
              "      <td>09/07</td>\n",
              "      <td>&lt;p&gt;Com uma história de mais de duas décadas de...</td>\n",
              "      <td>adrianaborgo@al.sp.gov.br</td>\n",
              "      <td>300606</td>\n",
              "      <td>Adriana Borgo</td>\n",
              "      <td>http://www3.al.sp.gov.br/repositorio/deputadoP...</td>\n",
              "      <td>T. 45</td>\n",
              "      <td>AGIR</td>\n",
              "      <td>(11) 3886-6567/8770</td>\n",
              "      <td>None</td>\n",
              "      <td>None</td>\n",
              "    </tr>\n",
              "    <tr>\n",
              "      <th>2</th>\n",
              "      <td>547</td>\n",
              "      <td>1000000335</td>\n",
              "      <td>20455</td>\n",
              "      <td>EXE</td>\n",
              "      <td>2º andar</td>\n",
              "      <td>26/08</td>\n",
              "      <td>&lt;p&gt;Danilo Mascarenhas de Balas nasceu na cidad...</td>\n",
              "      <td>apfdanilobalas@al.sp.gov.br</td>\n",
              "      <td>300607</td>\n",
              "      <td>Agente Federal Danilo Balas</td>\n",
              "      <td>http://www3.al.sp.gov.br/repositorio/deputadoP...</td>\n",
              "      <td>255</td>\n",
              "      <td>PL</td>\n",
              "      <td>(11)3886-6052/6054</td>\n",
              "      <td>None</td>\n",
              "      <td>None</td>\n",
              "    </tr>\n",
              "    <tr>\n",
              "      <th>3</th>\n",
              "      <td>128</td>\n",
              "      <td>39</td>\n",
              "      <td>20384</td>\n",
              "      <td>EXE</td>\n",
              "      <td>1º</td>\n",
              "      <td>04/01</td>\n",
              "      <td>&lt;p style=\"outline: none; color: #121212; font-...</td>\n",
              "      <td>ademarchi@al.sp.gov.br</td>\n",
              "      <td>300288</td>\n",
              "      <td>Aldo Demarchi</td>\n",
              "      <td>http://www3.al.sp.gov.br/repositorio/deputadoP...</td>\n",
              "      <td>168</td>\n",
              "      <td>UNIÃO</td>\n",
              "      <td>3886-6281/6283</td>\n",
              "      <td>None</td>\n",
              "      <td>None</td>\n",
              "    </tr>\n",
              "    <tr>\n",
              "      <th>4</th>\n",
              "      <td>546</td>\n",
              "      <td>1000000342</td>\n",
              "      <td>20399</td>\n",
              "      <td>EXE</td>\n",
              "      <td>1º</td>\n",
              "      <td>17/09</td>\n",
              "      <td>&lt;p&gt;Alexander Muniz de Oliveira, nascido na cid...</td>\n",
              "      <td>alexdemadureira@al.sp.gov.br</td>\n",
              "      <td>300608</td>\n",
              "      <td>Alex Madureira</td>\n",
              "      <td>http://www3.al.sp.gov.br/repositorio/deputadoP...</td>\n",
              "      <td>173</td>\n",
              "      <td>PL</td>\n",
              "      <td>(11)3886-6676 / 6677</td>\n",
              "      <td>None</td>\n",
              "      <td>None</td>\n",
              "    </tr>\n",
              "  </tbody>\n",
              "</table>\n",
              "</div>\n",
              "      <button class=\"colab-df-convert\" onclick=\"convertToInteractive('df-90b29635-7709-4047-bf50-4cc797ce387a')\"\n",
              "              title=\"Convert this dataframe to an interactive table.\"\n",
              "              style=\"display:none;\">\n",
              "        \n",
              "  <svg xmlns=\"http://www.w3.org/2000/svg\" height=\"24px\"viewBox=\"0 0 24 24\"\n",
              "       width=\"24px\">\n",
              "    <path d=\"M0 0h24v24H0V0z\" fill=\"none\"/>\n",
              "    <path d=\"M18.56 5.44l.94 2.06.94-2.06 2.06-.94-2.06-.94-.94-2.06-.94 2.06-2.06.94zm-11 1L8.5 8.5l.94-2.06 2.06-.94-2.06-.94L8.5 2.5l-.94 2.06-2.06.94zm10 10l.94 2.06.94-2.06 2.06-.94-2.06-.94-.94-2.06-.94 2.06-2.06.94z\"/><path d=\"M17.41 7.96l-1.37-1.37c-.4-.4-.92-.59-1.43-.59-.52 0-1.04.2-1.43.59L10.3 9.45l-7.72 7.72c-.78.78-.78 2.05 0 2.83L4 21.41c.39.39.9.59 1.41.59.51 0 1.02-.2 1.41-.59l7.78-7.78 2.81-2.81c.8-.78.8-2.07 0-2.86zM5.41 20L4 18.59l7.72-7.72 1.47 1.35L5.41 20z\"/>\n",
              "  </svg>\n",
              "      </button>\n",
              "      \n",
              "  <style>\n",
              "    .colab-df-container {\n",
              "      display:flex;\n",
              "      flex-wrap:wrap;\n",
              "      gap: 12px;\n",
              "    }\n",
              "\n",
              "    .colab-df-convert {\n",
              "      background-color: #E8F0FE;\n",
              "      border: none;\n",
              "      border-radius: 50%;\n",
              "      cursor: pointer;\n",
              "      display: none;\n",
              "      fill: #1967D2;\n",
              "      height: 32px;\n",
              "      padding: 0 0 0 0;\n",
              "      width: 32px;\n",
              "    }\n",
              "\n",
              "    .colab-df-convert:hover {\n",
              "      background-color: #E2EBFA;\n",
              "      box-shadow: 0px 1px 2px rgba(60, 64, 67, 0.3), 0px 1px 3px 1px rgba(60, 64, 67, 0.15);\n",
              "      fill: #174EA6;\n",
              "    }\n",
              "\n",
              "    [theme=dark] .colab-df-convert {\n",
              "      background-color: #3B4455;\n",
              "      fill: #D2E3FC;\n",
              "    }\n",
              "\n",
              "    [theme=dark] .colab-df-convert:hover {\n",
              "      background-color: #434B5C;\n",
              "      box-shadow: 0px 1px 3px 1px rgba(0, 0, 0, 0.15);\n",
              "      filter: drop-shadow(0px 1px 2px rgba(0, 0, 0, 0.3));\n",
              "      fill: #FFFFFF;\n",
              "    }\n",
              "  </style>\n",
              "\n",
              "      <script>\n",
              "        const buttonEl =\n",
              "          document.querySelector('#df-90b29635-7709-4047-bf50-4cc797ce387a button.colab-df-convert');\n",
              "        buttonEl.style.display =\n",
              "          google.colab.kernel.accessAllowed ? 'block' : 'none';\n",
              "\n",
              "        async function convertToInteractive(key) {\n",
              "          const element = document.querySelector('#df-90b29635-7709-4047-bf50-4cc797ce387a');\n",
              "          const dataTable =\n",
              "            await google.colab.kernel.invokeFunction('convertToInteractive',\n",
              "                                                     [key], {});\n",
              "          if (!dataTable) return;\n",
              "\n",
              "          const docLinkHtml = 'Like what you see? Visit the ' +\n",
              "            '<a target=\"_blank\" href=https://colab.research.google.com/notebooks/data_table.ipynb>data table notebook</a>'\n",
              "            + ' to learn more about interactive tables.';\n",
              "          element.innerHTML = '';\n",
              "          dataTable['output_type'] = 'display_data';\n",
              "          await google.colab.output.renderOutput(dataTable, element);\n",
              "          const docLink = document.createElement('div');\n",
              "          docLink.innerHTML = docLinkHtml;\n",
              "          element.appendChild(docLink);\n",
              "        }\n",
              "      </script>\n",
              "    </div>\n",
              "  </div>\n",
              "  "
            ]
          },
          "metadata": {},
          "execution_count": 2
        }
      ]
    },
    {
      "cell_type": "code",
      "source": [
        "Analise = Base_Deputados.groupby( by=['Partido'] ).count().sort_values( by=['IdDeputado'], ascending=False )\n",
        "Analise_Perc = Analise.IdDeputado.cumsum() / Analise.IdDeputado.sum() * 100\n",
        "\n",
        "Figura = plt.figure( figsize=(15, 10) )\n",
        "\n",
        "plt.style.use('seaborn-darkgrid')\n",
        "plt.suptitle('Quantidade de deputados por partido na Camera de SP - ALESP', fontsize=18)\n",
        "\n",
        "plt.subplot(2, 1, 1)\n",
        "plt.title('Quantidade por partido', fontsize=14 )\n",
        "plt.bar(\n",
        "    Analise.index,\n",
        "    Analise.IdDeputado,\n",
        "    color='#a3acff',\n",
        "    linewidth=2,\n",
        "    edgecolor='blue',\n",
        "    alpha=0.5\n",
        ")\n",
        "\n",
        "plt.ylabel('Quantidade')\n",
        "plt.xticks( rotation=45 )\n",
        "\n",
        "plt.ylim( [0, Analise.IdDeputado.max() + Analise.IdDeputado.max() * 0.2  ] )\n",
        "\n",
        "for loop in range(len(Analise)):\n",
        "  plt.text( x=Analise.index[loop], y=Analise.IdDeputado[loop] + 0.3, s=Analise.IdDeputado[loop], size=14 )\n",
        "\n",
        "plt.subplot(2, 1, 2)\n",
        "plt.title('Acmuluado por partido', fontsize=14 )\n",
        "plt.plot(\n",
        "    Analise_Perc.index,\n",
        "    Analise_Perc.values,\n",
        "    marker='o',\n",
        "    markeredgecolor='#fff',\n",
        "    color='red',\n",
        "    alpha=0.8\n",
        ")\n",
        "\n",
        "plt.ylabel('% Acumulado')\n",
        "plt.xlabel('Partidos')\n",
        "plt.xticks( rotation=45 );\n",
        "\n",
        "plt.subplots_adjust( hspace=0.4, top=0.9)\n",
        "\n",
        "Rodape = '#BOOTCAMP DATA ANALYTICS | by: @Odemir Depieri Jr'\n",
        "Figura.text( 0.91, -0.04, Rodape, ha='right', va='bottom', size=14 );"
      ],
      "metadata": {
        "colab": {
          "base_uri": "https://localhost:8080/",
          "height": 765
        },
        "id": "qn-amAvhZ_Vy",
        "outputId": "d227cce5-b19e-4e8f-d15f-910f30555b91"
      },
      "execution_count": null,
      "outputs": [
        {
          "output_type": "display_data",
          "data": {
            "text/plain": [
              "<Figure size 1080x720 with 2 Axes>"
            ],
            "image/png": "[encoded data removed]"
          },
          "metadata": {
            "needs_background": "light"
          }
        }
      ]
    },
    {
      "cell_type": "code",
      "source": [
        "# Print\n",
        "print('Olá mundo!')\n",
        "print(\"Olá mundo!\")\n",
        "\n",
        "Mensagem = 'Olá Mundo!'\n",
        "print( Mensagem )"
      ],
      "metadata": {
        "colab": {
          "base_uri": "https://localhost:8080/"
        },
        "id": "N56T4lJOa4s4",
        "outputId": "acb08fbf-f1c7-434b-b005-f8cbeab831db"
      },
      "execution_count": null,
      "outputs": [
        {
          "output_type": "stream",
          "name": "stdout",
          "text": [
            "Olá mundo!\n",
            "Olá mundo!\n",
            "Olá Mundo!\n"
          ]
        }
      ]
    },
    {
      "cell_type": "code",
      "source": [
        "# Operadores\n",
        "4+4, 4-4, 2*100, 2/4"
      ],
      "metadata": {
        "colab": {
          "base_uri": "https://localhost:8080/"
        },
        "id": "8i4lUYYrfXwS",
        "outputId": "8ee61083-b3f3-490c-8fef-73ee11f9672f"
      },
      "execution_count": null,
      "outputs": [
        {
          "output_type": "execute_result",
          "data": {
            "text/plain": [
              "(8, 0, 200, 0.5)"
            ]
          },
          "metadata": {},
          "execution_count": 5
        }
      ]
    },
    {
      "cell_type": "code",
      "source": [
        "# Comando print\n",
        "Var = 100\n",
        "\n",
        "print( 'Essa variavel é =', Var )\n",
        "print(f'Essa vairavel é = {Var}' )\n",
        "print( 'Essa variavel é = {}'.format( Var) )"
      ],
      "metadata": {
        "colab": {
          "base_uri": "https://localhost:8080/"
        },
        "id": "ch4_vJdmff_E",
        "outputId": "406a9d0b-f438-4646-a8f2-c40c77ef1553"
      },
      "execution_count": null,
      "outputs": [
        {
          "output_type": "stream",
          "name": "stdout",
          "text": [
            "Essa variavel é = 100\n",
            "Essa vairavel é = 100\n",
            "Essa variavel é = 100\n"
          ]
        }
      ]
    },
    {
      "cell_type": "code",
      "source": [
        "# Operadores\n",
        "\n",
        "Soma = 3 + 4\n",
        "Sub = 4 - 4\n",
        "Mul = 10 * 2\n",
        "Div = 10 / 2\n",
        "Exponenciacao = 2 ** 2\n",
        "Resto_Divisao = 9 % 4\n",
        "Divisaoo_Chao = 9 // 2\n",
        "\n",
        "Soma, Sub, Mul, Div, Exponenciacao, Resto_Divisao, Divisaoo_Chao"
      ],
      "metadata": {
        "colab": {
          "base_uri": "https://localhost:8080/"
        },
        "id": "_PwJcxH_fpb_",
        "outputId": "09916f45-e46e-4d17-d06f-3ab0540bff1e"
      },
      "execution_count": null,
      "outputs": [
        {
          "output_type": "execute_result",
          "data": {
            "text/plain": [
              "(7, 0, 20, 5.0, 4, 1, 4)"
            ]
          },
          "metadata": {},
          "execution_count": 7
        }
      ]
    },
    {
      "cell_type": "code",
      "source": [
        "# Tipos de Variaveis\n",
        "Inteiro = 100\n",
        "Inteiro = int( 100 )\n",
        "\n",
        "Flutuante = 100.101090\n",
        "Flutuante = float( 100.101090 )\n",
        "\n",
        "String_Palavras = 'Qualquer coisa!'\n",
        "String_Palavras = str( 'Qualquer coisa!' )\n",
        "\n",
        "Booleanos = True\n",
        "Booleanos = False\n",
        "\n",
        "Lista_1 = [ 1, 2, 3, 4, 5 ]\n",
        "Lista_2 = [ 'Odemir', 'Lucas', 'Bootcamp' ]\n",
        "Lista_3 = [ True, 1, 10.90, 'String', 9 + 6 ]\n",
        "\n",
        "# Tupla imutavel\n",
        "Tuplas_1 = (1, 2, 3, 4)\n",
        "Tuplas_2 = (True, 'Nome', 1)\n",
        "\n",
        "Dicionarios = { 'index':'valor', 'Nome':'Odemir', 'Idade':20 }\n",
        "\n",
        "print(\n",
        "    Inteiro, Flutuante, String_Palavras, Booleanos, Lista_3, Tuplas_2, Dicionarios\n",
        ")\n",
        "\n",
        "Dados_Base = {\n",
        "    'Infecção-Jan' : 10,\n",
        "    'Infecção-Fan' : 12,\n",
        "    'Infecção-Man' : 20\n",
        "}\n",
        "\n",
        "pd.DataFrame( Dados_Base, index=[0] )"
      ],
      "metadata": {
        "colab": {
          "base_uri": "https://localhost:8080/",
          "height": 99
        },
        "id": "TV3K-4K-gStZ",
        "outputId": "8026c912-502e-4431-ab92-c792eb8ec66b"
      },
      "execution_count": null,
      "outputs": [
        {
          "output_type": "stream",
          "name": "stdout",
          "text": [
            "100 100.10109 Qualquer coisa! False [True, 1, 10.9, 'String', 15] (True, 'Nome', 1) {'index': 'valor', 'Nome': 'Odemir', 'Idade': 20}\n"
          ]
        },
        {
          "output_type": "execute_result",
          "data": {
            "text/plain": [
              "   Infecção-Jan  Infecção-Fan  Infecção-Man\n",
              "0            10            12            20"
            ],
            "text/html": [
              "\n",
              "  <div id=\"df-eaef373d-4b01-45b1-a08f-fa53faac3337\">\n",
              "    <div class=\"colab-df-container\">\n",
              "      <div>\n",
              "<style scoped>\n",
              "    .dataframe tbody tr th:only-of-type {\n",
              "        vertical-align: middle;\n",
              "    }\n",
              "\n",
              "    .dataframe tbody tr th {\n",
              "        vertical-align: top;\n",
              "    }\n",
              "\n",
              "    .dataframe thead th {\n",
              "        text-align: right;\n",
              "    }\n",
              "</style>\n",
              "<table border=\"1\" class=\"dataframe\">\n",
              "  <thead>\n",
              "    <tr style=\"text-align: right;\">\n",
              "      <th></th>\n",
              "      <th>Infecção-Jan</th>\n",
              "      <th>Infecção-Fan</th>\n",
              "      <th>Infecção-Man</th>\n",
              "    </tr>\n",
              "  </thead>\n",
              "  <tbody>\n",
              "    <tr>\n",
              "      <th>0</th>\n",
              "      <td>10</td>\n",
              "      <td>12</td>\n",
              "      <td>20</td>\n",
              "    </tr>\n",
              "  </tbody>\n",
              "</table>\n",
              "</div>\n",
              "      <button class=\"colab-df-convert\" onclick=\"convertToInteractive('df-eaef373d-4b01-45b1-a08f-fa53faac3337')\"\n",
              "              title=\"Convert this dataframe to an interactive table.\"\n",
              "              style=\"display:none;\">\n",
              "        \n",
              "  <svg xmlns=\"http://www.w3.org/2000/svg\" height=\"24px\"viewBox=\"0 0 24 24\"\n",
              "       width=\"24px\">\n",
              "    <path d=\"M0 0h24v24H0V0z\" fill=\"none\"/>\n",
              "    <path d=\"M18.56 5.44l.94 2.06.94-2.06 2.06-.94-2.06-.94-.94-2.06-.94 2.06-2.06.94zm-11 1L8.5 8.5l.94-2.06 2.06-.94-2.06-.94L8.5 2.5l-.94 2.06-2.06.94zm10 10l.94 2.06.94-2.06 2.06-.94-2.06-.94-.94-2.06-.94 2.06-2.06.94z\"/><path d=\"M17.41 7.96l-1.37-1.37c-.4-.4-.92-.59-1.43-.59-.52 0-1.04.2-1.43.59L10.3 9.45l-7.72 7.72c-.78.78-.78 2.05 0 2.83L4 21.41c.39.39.9.59 1.41.59.51 0 1.02-.2 1.41-.59l7.78-7.78 2.81-2.81c.8-.78.8-2.07 0-2.86zM5.41 20L4 18.59l7.72-7.72 1.47 1.35L5.41 20z\"/>\n",
              "  </svg>\n",
              "      </button>\n",
              "      \n",
              "  <style>\n",
              "    .colab-df-container {\n",
              "      display:flex;\n",
              "      flex-wrap:wrap;\n",
              "      gap: 12px;\n",
              "    }\n",
              "\n",
              "    .colab-df-convert {\n",
              "      background-color: #E8F0FE;\n",
              "      border: none;\n",
              "      border-radius: 50%;\n",
              "      cursor: pointer;\n",
              "      display: none;\n",
              "      fill: #1967D2;\n",
              "      height: 32px;\n",
              "      padding: 0 0 0 0;\n",
              "      width: 32px;\n",
              "    }\n",
              "\n",
              "    .colab-df-convert:hover {\n",
              "      background-color: #E2EBFA;\n",
              "      box-shadow: 0px 1px 2px rgba(60, 64, 67, 0.3), 0px 1px 3px 1px rgba(60, 64, 67, 0.15);\n",
              "      fill: #174EA6;\n",
              "    }\n",
              "\n",
              "    [theme=dark] .colab-df-convert {\n",
              "      background-color: #3B4455;\n",
              "      fill: #D2E3FC;\n",
              "    }\n",
              "\n",
              "    [theme=dark] .colab-df-convert:hover {\n",
              "      background-color: #434B5C;\n",
              "      box-shadow: 0px 1px 3px 1px rgba(0, 0, 0, 0.15);\n",
              "      filter: drop-shadow(0px 1px 2px rgba(0, 0, 0, 0.3));\n",
              "      fill: #FFFFFF;\n",
              "    }\n",
              "  </style>\n",
              "\n",
              "      <script>\n",
              "        const buttonEl =\n",
              "          document.querySelector('#df-eaef373d-4b01-45b1-a08f-fa53faac3337 button.colab-df-convert');\n",
              "        buttonEl.style.display =\n",
              "          google.colab.kernel.accessAllowed ? 'block' : 'none';\n",
              "\n",
              "        async function convertToInteractive(key) {\n",
              "          const element = document.querySelector('#df-eaef373d-4b01-45b1-a08f-fa53faac3337');\n",
              "          const dataTable =\n",
              "            await google.colab.kernel.invokeFunction('convertToInteractive',\n",
              "                                                     [key], {});\n",
              "          if (!dataTable) return;\n",
              "\n",
              "          const docLinkHtml = 'Like what you see? Visit the ' +\n",
              "            '<a target=\"_blank\" href=https://colab.research.google.com/notebooks/data_table.ipynb>data table notebook</a>'\n",
              "            + ' to learn more about interactive tables.';\n",
              "          element.innerHTML = '';\n",
              "          dataTable['output_type'] = 'display_data';\n",
              "          await google.colab.output.renderOutput(dataTable, element);\n",
              "          const docLink = document.createElement('div');\n",
              "          docLink.innerHTML = docLinkHtml;\n",
              "          element.appendChild(docLink);\n",
              "        }\n",
              "      </script>\n",
              "    </div>\n",
              "  </div>\n",
              "  "
            ]
          },
          "metadata": {},
          "execution_count": 8
        }
      ]
    },
    {
      "cell_type": "code",
      "source": [
        "# Nomear variaveis | Exemplo 01\n",
        "\n",
        "A, B, C = 10, 20, 30\n",
        "print( A, B, C )"
      ],
      "metadata": {
        "colab": {
          "base_uri": "https://localhost:8080/"
        },
        "id": "Ageqrk7Aga1N",
        "outputId": "19609118-5596-417a-c94b-da60a3e5861f"
      },
      "execution_count": null,
      "outputs": [
        {
          "output_type": "stream",
          "name": "stdout",
          "text": [
            "10 20 30\n"
          ]
        }
      ]
    },
    {
      "cell_type": "code",
      "source": [
        "# Nomear variaveis | Exemplo 02\n",
        "\n",
        "Morango = Uva = Laranja = 50\n",
        "print( Morango, Uva, Laranja )"
      ],
      "metadata": {
        "colab": {
          "base_uri": "https://localhost:8080/"
        },
        "id": "jZ11LsBsimYo",
        "outputId": "58b5f316-6cfd-4157-a233-128686fd022e"
      },
      "execution_count": null,
      "outputs": [
        {
          "output_type": "stream",
          "name": "stdout",
          "text": [
            "50 50 50\n"
          ]
        }
      ]
    },
    {
      "cell_type": "code",
      "source": [
        "# Nomear variaveis | Exemplo 03\n",
        "\n",
        "Carros = ['VW', 'Honda', 'GM  ']\n",
        "Marca_1, Marca_2, Marca_3 = Carros\n",
        "\n",
        "print( Carros )"
      ],
      "metadata": {
        "colab": {
          "base_uri": "https://localhost:8080/"
        },
        "id": "8nZLmPEwivdi",
        "outputId": "545d101c-362a-41f1-bd93-6ec9b3f996b1"
      },
      "execution_count": null,
      "outputs": [
        {
          "output_type": "stream",
          "name": "stdout",
          "text": [
            "['VW', 'Honda', 'GM  ']\n"
          ]
        }
      ]
    },
    {
      "cell_type": "code",
      "source": [
        "# Comninar variaveis\n",
        "\n",
        "Nome = 'Odemir'\n",
        "Sobrenome = 'Depieri'\n",
        "Nome_Completo = Nome + ' ' + Sobrenome\n",
        "\n",
        "print( Nome_Completo )"
      ],
      "metadata": {
        "colab": {
          "base_uri": "https://localhost:8080/"
        },
        "id": "PVYWTZoZjAmz",
        "outputId": "c235e015-f84e-409a-c9c7-4cc5501bf54d"
      },
      "execution_count": null,
      "outputs": [
        {
          "output_type": "stream",
          "name": "stdout",
          "text": [
            "Odemir Depieri\n"
          ]
        }
      ]
    },
    {
      "cell_type": "code",
      "source": [
        "Nome + str( 90 + float(10.90) ) + str( Lista_1 )"
      ],
      "metadata": {
        "colab": {
          "base_uri": "https://localhost:8080/",
          "height": 36
        },
        "id": "OXteQHNDjSSy",
        "outputId": "35b28cac-fb82-4cb8-d05b-194ed565f5f4"
      },
      "execution_count": null,
      "outputs": [
        {
          "output_type": "execute_result",
          "data": {
            "text/plain": [
              "'Odemir100.9[1, 2, 3, 4, 5]'"
            ],
            "application/vnd.google.colaboratory.intrinsic+json": {
              "type": "string"
            }
          },
          "metadata": {},
          "execution_count": 13
        }
      ]
    },
    {
      "cell_type": "code",
      "source": [
        "# Comando type\n",
        "\n",
        "type( Inteiro ), type( Flutuante ), type( Booleanos ), type( String_Palavras ), type( Lista_1 ), type( Tuplas_1), type( Dicionarios )"
      ],
      "metadata": {
        "colab": {
          "base_uri": "https://localhost:8080/"
        },
        "id": "Ftw8qWthjdOr",
        "outputId": "ec842f5e-5407-48cb-d343-b46bd83a23b6"
      },
      "execution_count": null,
      "outputs": [
        {
          "output_type": "execute_result",
          "data": {
            "text/plain": [
              "(int, float, bool, str, list, tuple, dict)"
            ]
          },
          "metadata": {},
          "execution_count": 14
        }
      ]
    },
    {
      "cell_type": "code",
      "source": [
        "type( Base_Deputados ), type( Figura), type( Analise.values )"
      ],
      "metadata": {
        "colab": {
          "base_uri": "https://localhost:8080/"
        },
        "id": "fBVmsAF1kaU2",
        "outputId": "6d9c306d-9e76-4474-e9b8-35d149100688"
      },
      "execution_count": null,
      "outputs": [
        {
          "output_type": "execute_result",
          "data": {
            "text/plain": [
              "(pandas.core.frame.DataFrame, matplotlib.figure.Figure, numpy.ndarray)"
            ]
          },
          "metadata": {},
          "execution_count": 15
        }
      ]
    },
    {
      "cell_type": "code",
      "source": [
        "# Round\n",
        "Taxa = 5.56789\n",
        "round( Taxa, 3  )"
      ],
      "metadata": {
        "colab": {
          "base_uri": "https://localhost:8080/"
        },
        "id": "XXdQ6tObkxXb",
        "outputId": "87c7c203-5565-4bb5-9334-731c5fbd0efc"
      },
      "execution_count": null,
      "outputs": [
        {
          "output_type": "execute_result",
          "data": {
            "text/plain": [
              "5.568"
            ]
          },
          "metadata": {},
          "execution_count": 16
        }
      ]
    },
    {
      "cell_type": "code",
      "source": [
        "# input\n",
        "Nome = input('Qual seu nome:')\n",
        "print('Seu nome é:', Nome)"
      ],
      "metadata": {
        "colab": {
          "base_uri": "https://localhost:8080/"
        },
        "id": "B_YxlYmOlXHM",
        "outputId": "20cd01ed-cd3c-4794-8f04-7a7a1f94effe"
      },
      "execution_count": null,
      "outputs": [
        {
          "output_type": "stream",
          "name": "stdout",
          "text": [
            "Qual seu nome:Odemir\n",
            "Seu nome é: Odemir\n"
          ]
        }
      ]
    },
    {
      "cell_type": "code",
      "source": [
        "# Operadores de comparação\n",
        "\n",
        "Igual = '=='\n",
        "Diferente = '!='\n",
        "Maior = '>'\n",
        "Menor= '<'\n",
        "Maior_I = '>='\n",
        "Menor_I = '<='\n",
        "\n",
        "print('8 é maior que 7: ', 8 > 7)\n",
        "print('8 é menor que 7: ', 8 < 7)\n",
        "print('8 é igual a 8: ', 8 == 8)\n",
        "print('8 é diferente de 8: ', 8 != 8)"
      ],
      "metadata": {
        "colab": {
          "base_uri": "https://localhost:8080/"
        },
        "id": "hLXZAK4mlqUY",
        "outputId": "d4064481-3d35-437e-e23b-67c096fb4d10"
      },
      "execution_count": null,
      "outputs": [
        {
          "output_type": "stream",
          "name": "stdout",
          "text": [
            "8 é maior que 7:  True\n",
            "8 é menor que 7:  False\n",
            "8 é igual a 8:  True\n",
            "8 é diferente de 8:  False\n"
          ]
        }
      ]
    },
    {
      "cell_type": "code",
      "source": [
        "# Operador de comaração parte 2\n",
        "\n",
        "E = 'and'\n",
        "Ou = 'or'\n",
        "Negacao = 'not'\n",
        "Dentro = 'in'\n",
        "\n",
        "print('8 é maior que 7 e 7 é maior 6:', 8 > 7 and 7 > 6 )\n",
        "print('8 é maior que 7 e 7 é maior 6:', 8 > 7 and 7 > 8 )\n",
        "\n",
        "print('8 é maior que 7 e 7 é maior 6:', 8 > 7 or 7 > 8 )\n",
        "\n",
        "print('8 não esta nessa lista:', 8 not in [8, 9, 10] )\n",
        "print('8 não esta nessa lista:', 8 in [8, 9, 10] )"
      ],
      "metadata": {
        "colab": {
          "base_uri": "https://localhost:8080/"
        },
        "id": "WKMixDammcOk",
        "outputId": "0589b78e-d44e-42c6-d68b-086b32c042f8"
      },
      "execution_count": null,
      "outputs": [
        {
          "output_type": "stream",
          "name": "stdout",
          "text": [
            "8 é maior que 7 e 7 é maior 6: True\n",
            "8 é maior que 7 e 7 é maior 6: False\n",
            "8 é maior que 7 e 7 é maior 6: True\n",
            "8 não esta nessa lista: False\n",
            "8 não esta nessa lista: True\n"
          ]
        }
      ]
    },
    {
      "cell_type": "code",
      "source": [
        "8 > 7, 7 > 6"
      ],
      "metadata": {
        "colab": {
          "base_uri": "https://localhost:8080/"
        },
        "id": "wCP22YTrmkzu",
        "outputId": "637628eb-07b4-4858-aff5-4de1bcf237a1"
      },
      "execution_count": null,
      "outputs": [
        {
          "output_type": "execute_result",
          "data": {
            "text/plain": [
              "(True, True)"
            ]
          },
          "metadata": {},
          "execution_count": 20
        }
      ]
    },
    {
      "cell_type": "code",
      "source": [
        "str(\"(13)\") not in Base_Deputados.Telefone[0].split()"
      ],
      "metadata": {
        "colab": {
          "base_uri": "https://localhost:8080/"
        },
        "id": "2OLFswtno8rC",
        "outputId": "36fbb08c-4f0a-4830-8156-2d936916504a"
      },
      "execution_count": null,
      "outputs": [
        {
          "output_type": "execute_result",
          "data": {
            "text/plain": [
              "True"
            ]
          },
          "metadata": {},
          "execution_count": 21
        }
      ]
    },
    {
      "cell_type": "code",
      "source": [
        "# | ou\n",
        "# & and\n",
        "Base_Deputados.loc[ (Base_Deputados['Partido'] == 'PL') | (Base_Deputados['Andar'] == '3º') ].head()"
      ],
      "metadata": {
        "colab": {
          "base_uri": "https://localhost:8080/",
          "height": 617
        },
        "id": "mLg5-XGwnfou",
        "outputId": "eb95ff2d-e8f4-4e6b-9d49-67d74c660074"
      },
      "execution_count": null,
      "outputs": [
        {
          "output_type": "execute_result",
          "data": {
            "text/plain": [
              "    IdDeputado       IdSPL   IdUA Situacao     Andar Aniversario  \\\n",
              "2          547  1000000335  20455      EXE  2º andar       26/08   \n",
              "4          546  1000000342  20399      EXE        1º       17/09   \n",
              "8           58       12381  20433      EXE        3º       07/06   \n",
              "14         142       12396  20458      EXE        3º       13/07   \n",
              "17         539  1000000376  20392      EXE        2º       10/11   \n",
              "\n",
              "                                            Biografia  \\\n",
              "2   <p>Danilo Mascarenhas de Balas nasceu na cidad...   \n",
              "4   <p>Alexander Muniz de Oliveira, nascido na cid...   \n",
              "8   <p>De origem humilde, Andr&eacute; do Prado te...   \n",
              "14  <p><span style=\"color: #212529; font-family: C...   \n",
              "17  <p>Capitão Oscar Castello Branco de Luca nasce...   \n",
              "\n",
              "                           Email  Matricula              NomeParlamentar  \\\n",
              "2    apfdanilobalas@al.sp.gov.br     300607  Agente Federal Danilo Balas   \n",
              "4   alexdemadureira@al.sp.gov.br     300608               Alex Madureira   \n",
              "8      andredoprado@al.sp.gov.br     300497               André do Prado   \n",
              "14      carloscezar@al.sp.gov.br     300501                 Carlos Cezar   \n",
              "17   castellobranco@al.sp.gov.br     300615              Castello Branco   \n",
              "\n",
              "                                             PathFoto Sala Partido  \\\n",
              "2   http://www3.al.sp.gov.br/repositorio/deputadoP...  255      PL   \n",
              "4   http://www3.al.sp.gov.br/repositorio/deputadoP...  173      PL   \n",
              "8   http://www3.al.sp.gov.br/repositorio/deputadoP...  350      PL   \n",
              "14  http://www3.al.sp.gov.br/repositorio/deputadoP...  307      PL   \n",
              "17  http://www3.al.sp.gov.br/repositorio/deputadoP...  207      PL   \n",
              "\n",
              "                Telefone   Fax PlacaVeiculo  \n",
              "2     (11)3886-6052/6054  None         None  \n",
              "4   (11)3886-6676 / 6677  None         None  \n",
              "8     (11)3886-6562/6563  None         None  \n",
              "14    (11)3886-6451/6452  None         None  \n",
              "17  (11)3886-6508 / 6509  None         None  "
            ],
            "text/html": [
              "\n",
              "  <div id=\"df-6b37a1ca-c641-4afb-a07b-4d3846e9aca9\">\n",
              "    <div class=\"colab-df-container\">\n",
              "      <div>\n",
              "<style scoped>\n",
              "    .dataframe tbody tr th:only-of-type {\n",
              "        vertical-align: middle;\n",
              "    }\n",
              "\n",
              "    .dataframe tbody tr th {\n",
              "        vertical-align: top;\n",
              "    }\n",
              "\n",
              "    .dataframe thead th {\n",
              "        text-align: right;\n",
              "    }\n",
              "</style>\n",
              "<table border=\"1\" class=\"dataframe\">\n",
              "  <thead>\n",
              "    <tr style=\"text-align: right;\">\n",
              "      <th></th>\n",
              "      <th>IdDeputado</th>\n",
              "      <th>IdSPL</th>\n",
              "      <th>IdUA</th>\n",
              "      <th>Situacao</th>\n",
              "      <th>Andar</th>\n",
              "      <th>Aniversario</th>\n",
              "      <th>Biografia</th>\n",
              "      <th>Email</th>\n",
              "      <th>Matricula</th>\n",
              "      <th>NomeParlamentar</th>\n",
              "      <th>PathFoto</th>\n",
              "      <th>Sala</th>\n",
              "      <th>Partido</th>\n",
              "      <th>Telefone</th>\n",
              "      <th>Fax</th>\n",
              "      <th>PlacaVeiculo</th>\n",
              "    </tr>\n",
              "  </thead>\n",
              "  <tbody>\n",
              "    <tr>\n",
              "      <th>2</th>\n",
              "      <td>547</td>\n",
              "      <td>1000000335</td>\n",
              "      <td>20455</td>\n",
              "      <td>EXE</td>\n",
              "      <td>2º andar</td>\n",
              "      <td>26/08</td>\n",
              "      <td>&lt;p&gt;Danilo Mascarenhas de Balas nasceu na cidad...</td>\n",
              "      <td>apfdanilobalas@al.sp.gov.br</td>\n",
              "      <td>300607</td>\n",
              "      <td>Agente Federal Danilo Balas</td>\n",
              "      <td>http://www3.al.sp.gov.br/repositorio/deputadoP...</td>\n",
              "      <td>255</td>\n",
              "      <td>PL</td>\n",
              "      <td>(11)3886-6052/6054</td>\n",
              "      <td>None</td>\n",
              "      <td>None</td>\n",
              "    </tr>\n",
              "    <tr>\n",
              "      <th>4</th>\n",
              "      <td>546</td>\n",
              "      <td>1000000342</td>\n",
              "      <td>20399</td>\n",
              "      <td>EXE</td>\n",
              "      <td>1º</td>\n",
              "      <td>17/09</td>\n",
              "      <td>&lt;p&gt;Alexander Muniz de Oliveira, nascido na cid...</td>\n",
              "      <td>alexdemadureira@al.sp.gov.br</td>\n",
              "      <td>300608</td>\n",
              "      <td>Alex Madureira</td>\n",
              "      <td>http://www3.al.sp.gov.br/repositorio/deputadoP...</td>\n",
              "      <td>173</td>\n",
              "      <td>PL</td>\n",
              "      <td>(11)3886-6676 / 6677</td>\n",
              "      <td>None</td>\n",
              "      <td>None</td>\n",
              "    </tr>\n",
              "    <tr>\n",
              "      <th>8</th>\n",
              "      <td>58</td>\n",
              "      <td>12381</td>\n",
              "      <td>20433</td>\n",
              "      <td>EXE</td>\n",
              "      <td>3º</td>\n",
              "      <td>07/06</td>\n",
              "      <td>&lt;p&gt;De origem humilde, Andr&amp;eacute; do Prado te...</td>\n",
              "      <td>andredoprado@al.sp.gov.br</td>\n",
              "      <td>300497</td>\n",
              "      <td>André do Prado</td>\n",
              "      <td>http://www3.al.sp.gov.br/repositorio/deputadoP...</td>\n",
              "      <td>350</td>\n",
              "      <td>PL</td>\n",
              "      <td>(11)3886-6562/6563</td>\n",
              "      <td>None</td>\n",
              "      <td>None</td>\n",
              "    </tr>\n",
              "    <tr>\n",
              "      <th>14</th>\n",
              "      <td>142</td>\n",
              "      <td>12396</td>\n",
              "      <td>20458</td>\n",
              "      <td>EXE</td>\n",
              "      <td>3º</td>\n",
              "      <td>13/07</td>\n",
              "      <td>&lt;p&gt;&lt;span style=\"color: #212529; font-family: C...</td>\n",
              "      <td>carloscezar@al.sp.gov.br</td>\n",
              "      <td>300501</td>\n",
              "      <td>Carlos Cezar</td>\n",
              "      <td>http://www3.al.sp.gov.br/repositorio/deputadoP...</td>\n",
              "      <td>307</td>\n",
              "      <td>PL</td>\n",
              "      <td>(11)3886-6451/6452</td>\n",
              "      <td>None</td>\n",
              "      <td>None</td>\n",
              "    </tr>\n",
              "    <tr>\n",
              "      <th>17</th>\n",
              "      <td>539</td>\n",
              "      <td>1000000376</td>\n",
              "      <td>20392</td>\n",
              "      <td>EXE</td>\n",
              "      <td>2º</td>\n",
              "      <td>10/11</td>\n",
              "      <td>&lt;p&gt;Capitão Oscar Castello Branco de Luca nasce...</td>\n",
              "      <td>castellobranco@al.sp.gov.br</td>\n",
              "      <td>300615</td>\n",
              "      <td>Castello Branco</td>\n",
              "      <td>http://www3.al.sp.gov.br/repositorio/deputadoP...</td>\n",
              "      <td>207</td>\n",
              "      <td>PL</td>\n",
              "      <td>(11)3886-6508 / 6509</td>\n",
              "      <td>None</td>\n",
              "      <td>None</td>\n",
              "    </tr>\n",
              "  </tbody>\n",
              "</table>\n",
              "</div>\n",
              "      <button class=\"colab-df-convert\" onclick=\"convertToInteractive('df-6b37a1ca-c641-4afb-a07b-4d3846e9aca9')\"\n",
              "              title=\"Convert this dataframe to an interactive table.\"\n",
              "              style=\"display:none;\">\n",
              "        \n",
              "  <svg xmlns=\"http://www.w3.org/2000/svg\" height=\"24px\"viewBox=\"0 0 24 24\"\n",
              "       width=\"24px\">\n",
              "    <path d=\"M0 0h24v24H0V0z\" fill=\"none\"/>\n",
              "    <path d=\"M18.56 5.44l.94 2.06.94-2.06 2.06-.94-2.06-.94-.94-2.06-.94 2.06-2.06.94zm-11 1L8.5 8.5l.94-2.06 2.06-.94-2.06-.94L8.5 2.5l-.94 2.06-2.06.94zm10 10l.94 2.06.94-2.06 2.06-.94-2.06-.94-.94-2.06-.94 2.06-2.06.94z\"/><path d=\"M17.41 7.96l-1.37-1.37c-.4-.4-.92-.59-1.43-.59-.52 0-1.04.2-1.43.59L10.3 9.45l-7.72 7.72c-.78.78-.78 2.05 0 2.83L4 21.41c.39.39.9.59 1.41.59.51 0 1.02-.2 1.41-.59l7.78-7.78 2.81-2.81c.8-.78.8-2.07 0-2.86zM5.41 20L4 18.59l7.72-7.72 1.47 1.35L5.41 20z\"/>\n",
              "  </svg>\n",
              "      </button>\n",
              "      \n",
              "  <style>\n",
              "    .colab-df-container {\n",
              "      display:flex;\n",
              "      flex-wrap:wrap;\n",
              "      gap: 12px;\n",
              "    }\n",
              "\n",
              "    .colab-df-convert {\n",
              "      background-color: #E8F0FE;\n",
              "      border: none;\n",
              "      border-radius: 50%;\n",
              "      cursor: pointer;\n",
              "      display: none;\n",
              "      fill: #1967D2;\n",
              "      height: 32px;\n",
              "      padding: 0 0 0 0;\n",
              "      width: 32px;\n",
              "    }\n",
              "\n",
              "    .colab-df-convert:hover {\n",
              "      background-color: #E2EBFA;\n",
              "      box-shadow: 0px 1px 2px rgba(60, 64, 67, 0.3), 0px 1px 3px 1px rgba(60, 64, 67, 0.15);\n",
              "      fill: #174EA6;\n",
              "    }\n",
              "\n",
              "    [theme=dark] .colab-df-convert {\n",
              "      background-color: #3B4455;\n",
              "      fill: #D2E3FC;\n",
              "    }\n",
              "\n",
              "    [theme=dark] .colab-df-convert:hover {\n",
              "      background-color: #434B5C;\n",
              "      box-shadow: 0px 1px 3px 1px rgba(0, 0, 0, 0.15);\n",
              "      filter: drop-shadow(0px 1px 2px rgba(0, 0, 0, 0.3));\n",
              "      fill: #FFFFFF;\n",
              "    }\n",
              "  </style>\n",
              "\n",
              "      <script>\n",
              "        const buttonEl =\n",
              "          document.querySelector('#df-6b37a1ca-c641-4afb-a07b-4d3846e9aca9 button.colab-df-convert');\n",
              "        buttonEl.style.display =\n",
              "          google.colab.kernel.accessAllowed ? 'block' : 'none';\n",
              "\n",
              "        async function convertToInteractive(key) {\n",
              "          const element = document.querySelector('#df-6b37a1ca-c641-4afb-a07b-4d3846e9aca9');\n",
              "          const dataTable =\n",
              "            await google.colab.kernel.invokeFunction('convertToInteractive',\n",
              "                                                     [key], {});\n",
              "          if (!dataTable) return;\n",
              "\n",
              "          const docLinkHtml = 'Like what you see? Visit the ' +\n",
              "            '<a target=\"_blank\" href=https://colab.research.google.com/notebooks/data_table.ipynb>data table notebook</a>'\n",
              "            + ' to learn more about interactive tables.';\n",
              "          element.innerHTML = '';\n",
              "          dataTable['output_type'] = 'display_data';\n",
              "          await google.colab.output.renderOutput(dataTable, element);\n",
              "          const docLink = document.createElement('div');\n",
              "          docLink.innerHTML = docLinkHtml;\n",
              "          element.appendChild(docLink);\n",
              "        }\n",
              "      </script>\n",
              "    </div>\n",
              "  </div>\n",
              "  "
            ]
          },
          "metadata": {},
          "execution_count": 22
        }
      ]
    },
    {
      "cell_type": "code",
      "source": [
        "Lista = []\n",
        "\n",
        "print( Lista )"
      ],
      "metadata": {
        "colab": {
          "base_uri": "https://localhost:8080/"
        },
        "id": "bPED2t9Qn9Gc",
        "outputId": "772cc74f-23a9-425a-c0d4-3fe5cfeef161"
      },
      "execution_count": null,
      "outputs": [
        {
          "output_type": "stream",
          "name": "stdout",
          "text": [
            "[]\n"
          ]
        }
      ]
    },
    {
      "cell_type": "code",
      "source": [
        "Lista.append( 'Incluindo algo' )\n",
        "Lista.append( 1 )\n",
        "Lista.append( True )\n",
        "Lista"
      ],
      "metadata": {
        "colab": {
          "base_uri": "https://localhost:8080/"
        },
        "id": "0wbxdYGbpXI_",
        "outputId": "8dc3aed0-1a8f-44dd-e599-31919286a1cd"
      },
      "execution_count": null,
      "outputs": [
        {
          "output_type": "execute_result",
          "data": {
            "text/plain": [
              "['Incluindo algo', 1, True]"
            ]
          },
          "metadata": {},
          "execution_count": 24
        }
      ]
    },
    {
      "cell_type": "code",
      "source": [
        "Lista[0]"
      ],
      "metadata": {
        "colab": {
          "base_uri": "https://localhost:8080/",
          "height": 36
        },
        "id": "_CkWp2yFpcuA",
        "outputId": "1c5be933-3203-40f3-da0c-287ff5e88aea"
      },
      "execution_count": null,
      "outputs": [
        {
          "output_type": "execute_result",
          "data": {
            "text/plain": [
              "'Incluindo algo'"
            ],
            "application/vnd.google.colaboratory.intrinsic+json": {
              "type": "string"
            }
          },
          "metadata": {},
          "execution_count": 25
        }
      ]
    },
    {
      "cell_type": "code",
      "source": [
        "len( Lista )"
      ],
      "metadata": {
        "colab": {
          "base_uri": "https://localhost:8080/"
        },
        "id": "2EYWoON1piiz",
        "outputId": "a309ce20-d9f6-477e-d831-d6607ca066c3"
      },
      "execution_count": null,
      "outputs": [
        {
          "output_type": "execute_result",
          "data": {
            "text/plain": [
              "3"
            ]
          },
          "metadata": {},
          "execution_count": 26
        }
      ]
    },
    {
      "cell_type": "code",
      "source": [
        "Lista[-1]"
      ],
      "metadata": {
        "colab": {
          "base_uri": "https://localhost:8080/"
        },
        "id": "7Tp-eUKspmiO",
        "outputId": "36d51329-290b-4feb-847b-3785bb4ea321"
      },
      "execution_count": null,
      "outputs": [
        {
          "output_type": "execute_result",
          "data": {
            "text/plain": [
              "True"
            ]
          },
          "metadata": {},
          "execution_count": 27
        }
      ]
    },
    {
      "cell_type": "code",
      "source": [
        "Lista[0:2]"
      ],
      "metadata": {
        "colab": {
          "base_uri": "https://localhost:8080/"
        },
        "id": "WpUWk6vXppna",
        "outputId": "97c35f08-9737-4c23-85d1-0f7a9eeca4c2"
      },
      "execution_count": null,
      "outputs": [
        {
          "output_type": "execute_result",
          "data": {
            "text/plain": [
              "['Incluindo algo', 1]"
            ]
          },
          "metadata": {},
          "execution_count": 28
        }
      ]
    },
    {
      "cell_type": "code",
      "source": [
        "del Lista[-1]"
      ],
      "metadata": {
        "id": "0BMi3rIWpxG4"
      },
      "execution_count": null,
      "outputs": []
    },
    {
      "cell_type": "code",
      "source": [
        "Lista"
      ],
      "metadata": {
        "colab": {
          "base_uri": "https://localhost:8080/"
        },
        "id": "RP8iTEylp0PN",
        "outputId": "28e7149d-adb1-42ee-91bf-00928ba4c177"
      },
      "execution_count": null,
      "outputs": [
        {
          "output_type": "execute_result",
          "data": {
            "text/plain": [
              "['Incluindo algo', 1]"
            ]
          },
          "metadata": {},
          "execution_count": 30
        }
      ]
    },
    {
      "cell_type": "code",
      "source": [
        "Lista.clear()"
      ],
      "metadata": {
        "id": "k0s0YYAmp02I"
      },
      "execution_count": null,
      "outputs": []
    },
    {
      "cell_type": "code",
      "source": [
        "Lista"
      ],
      "metadata": {
        "colab": {
          "base_uri": "https://localhost:8080/"
        },
        "id": "TI_Y7xlBp5Nl",
        "outputId": "fe33c3fb-7a13-4ea9-9fc0-4c25ec75dfac"
      },
      "execution_count": null,
      "outputs": [
        {
          "output_type": "execute_result",
          "data": {
            "text/plain": [
              "[]"
            ]
          },
          "metadata": {},
          "execution_count": 32
        }
      ]
    },
    {
      "cell_type": "code",
      "source": [
        "from datetime import datetime\n",
        "import time\n",
        "import io\n",
        "\n",
        "\n",
        "Data = '02/03/23'\n",
        "type( Data )\n",
        "\n",
        "Conversao = datetime.strptime( Data, '%d/%m/%y')\n",
        "type( Conversao ), Conversao"
      ],
      "metadata": {
        "colab": {
          "base_uri": "https://localhost:8080/"
        },
        "id": "kssjk48Jp6GC",
        "outputId": "4b9e882a-b56b-49aa-a896-a364a632e013"
      },
      "execution_count": null,
      "outputs": [
        {
          "output_type": "execute_result",
          "data": {
            "text/plain": [
              "(datetime.datetime, datetime.datetime(2023, 3, 2, 0, 0))"
            ]
          },
          "metadata": {},
          "execution_count": 33
        }
      ]
    },
    {
      "cell_type": "code",
      "source": [
        "Lista = ['10/01/2022', '11/01/2022', '12/01/2022', '13/01/2022']\n",
        "pd.to_datetime( Lista )"
      ],
      "metadata": {
        "colab": {
          "base_uri": "https://localhost:8080/"
        },
        "id": "L3WwT0uhqWXe",
        "outputId": "5b5a120b-2f8e-4740-ffb3-f770a4325765"
      },
      "execution_count": null,
      "outputs": [
        {
          "output_type": "execute_result",
          "data": {
            "text/plain": [
              "DatetimeIndex(['2022-10-01', '2022-11-01', '2022-12-01', '2022-01-13'], dtype='datetime64[ns]', freq=None)"
            ]
          },
          "metadata": {},
          "execution_count": 34
        }
      ]
    },
    {
      "cell_type": "code",
      "source": [
        "# Folha de Pagamento\n",
        "Salario = float( input('Qual seu salário:') )\n",
        "\n",
        "# Descontos\n",
        "INSS = 0.11\n",
        "Vale_Refeicao = 0.04\n",
        "Vale_Transporte = 0.04\n",
        "IR = 0.27\n",
        "Pensao = 0.15\n",
        "\n",
        "# Organizar\n",
        "Descontos = {\n",
        "    'INSS' : Salario * INSS,\n",
        "    'Vale_T' : Salario * Vale_Transporte,\n",
        "    'Vale_R' : Salario * Vale_Refeicao,\n",
        "    'IR' : Salario * IR,\n",
        "    'Pensao' : Salario * Pensao\n",
        "}\n",
        "\n",
        "Desconto = Descontos['INSS'] + Descontos['Vale_T'] + Descontos['Vale_R'] + Descontos['IR'] + Descontos['Pensao']\n",
        "Salario_Liquido = Salario - Desconto\n",
        "\n",
        "Descontos['Desconto_Total'] = Desconto\n",
        "Descontos['Salario_Liquido'] = Salario_Liquido\n",
        "\n",
        "print(f'Salário informado foi: {Salario} ')\n",
        "print('')\n",
        "print('Esses são os descontos calculados')\n",
        "print( Descontos )\n",
        "print('')\n",
        "print('Desconto total:', Desconto )\n",
        "print('')\n",
        "print(f'Então meu amigo, seu salário será de: R${Salario_Liquido}')\n",
        "\n",
        "print('')\n",
        "pd.DataFrame( Descontos, index=[0] ).to_excel('Dados_Pagamento.xlsx')"
      ],
      "metadata": {
        "colab": {
          "base_uri": "https://localhost:8080/"
        },
        "id": "pX7bRUHNrAcw",
        "outputId": "c2548aef-91ef-402f-d067-de3b03c4ee9a"
      },
      "execution_count": null,
      "outputs": [
        {
          "output_type": "stream",
          "name": "stdout",
          "text": [
            "Qual seu salário:1200\n",
            "Salário informado foi: 1200.0 \n",
            "\n",
            "Esses são os descontos calculados\n",
            "{'INSS': 132.0, 'Vale_T': 48.0, 'Vale_R': 48.0, 'IR': 324.0, 'Pensao': 180.0, 'Desconto_Total': 732.0, 'Salario_Liquido': 468.0}\n",
            "\n",
            "Desconto total: 732.0\n",
            "\n",
            "Então meu amigo, seu salário será de: R$468.0\n",
            "\n"
          ]
        }
      ]
    },
    {
      "cell_type": "code",
      "source": [],
      "metadata": {
        "id": "QVdYgcJzrWv2"
      },
      "execution_count": null,
      "outputs": []
    }
  ]
}